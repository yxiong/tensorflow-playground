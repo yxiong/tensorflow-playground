{
 "cells": [
  {
   "cell_type": "markdown",
   "metadata": {},
   "source": [
    "Download data with the following commands in shell:\n",
    "```\n",
    "wget http://mattmahoney.net/dc/text8.zip -O text8.zip\n",
    "unzip text8.zip\n",
    "wget https://storage.googleapis.com/google-code-archive-source/v2/code.google.com/word2vec/source-archive.zip\n",
    "unzip -p source-archive.zip  word2vec/trunk/questions-words.txt > questions-words.txt\n",
    "rm source-archive.zip\n",
    "```"
   ]
  },
  {
   "cell_type": "code",
   "execution_count": 1,
   "metadata": {
    "collapsed": false
   },
   "outputs": [],
   "source": [
    "import tensorflow as tf\n",
    "from word2vec import Word2Vec"
   ]
  },
  {
   "cell_type": "code",
   "execution_count": 2,
   "metadata": {
    "collapsed": true
   },
   "outputs": [],
   "source": [
    "sess = tf.InteractiveSession()"
   ]
  },
  {
   "cell_type": "code",
   "execution_count": null,
   "metadata": {
    "collapsed": false
   },
   "outputs": [
    {
     "name": "stdout",
     "output_type": "stream",
     "text": [
      "Eval analogy file: questions-words.txt\n",
      "Questions: 17827\n",
      "Skipped: 1717\n",
      "Training data file: text8\n",
      "Vocabulary size: 71290 + UNK\n",
      "Words per epoch: 17005207\n",
      "Most frequent words: [[('UNK', 286363), ('the', 1061396), ('of', 593677), ('and', 416629), ('one', 411764), ('in', 372201), ('a', 325873), ('to', 316376), ('zero', 264975), ('nine', 250430)]]\n"
     ]
    }
   ],
   "source": [
    "# Create a model.\n",
    "training_data_filename = \"text8\"\n",
    "epochs_to_train = 15\n",
    "model = Word2Vec(sess, training_data_filename, epochs_to_train = epochs_to_train)\n",
    "model.read_analogy_questions(\"questions-words.txt\")\n",
    "\n",
    "# Print some statistics.\n",
    "print \"Training data file:\", training_data_filename\n",
    "print \"Vocabulary size:\", len(model.words) - 1, \"+ UNK\"\n",
    "print \"Words per epoch:\", model.words_per_epoch\n",
    "print \"Most frequent words:\", [zip(model.words, model.word_freq)[:10]]"
   ]
  },
  {
   "cell_type": "code",
   "execution_count": null,
   "metadata": {
    "collapsed": false
   },
   "outputs": [],
   "source": [
    "summary_writer = tf.train.SummaryWriter(\"training-results\", sess.graph)\n",
    "for _ in xrange(epochs_to_train):\n",
    "    model.train(summary_writer, \"training-results\")"
   ]
  }
 ],
 "metadata": {
  "kernelspec": {
   "display_name": "Python 2",
   "language": "python",
   "name": "python2"
  },
  "language_info": {
   "codemirror_mode": {
    "name": "ipython",
    "version": 2
   },
   "file_extension": ".py",
   "mimetype": "text/x-python",
   "name": "python",
   "nbconvert_exporter": "python",
   "pygments_lexer": "ipython2",
   "version": "2.7.12"
  }
 },
 "nbformat": 4,
 "nbformat_minor": 1
}
