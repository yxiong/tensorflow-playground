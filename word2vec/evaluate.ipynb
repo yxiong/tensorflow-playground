{
 "cells": [
  {
   "cell_type": "code",
   "execution_count": 1,
   "metadata": {
    "collapsed": true
   },
   "outputs": [],
   "source": [
    "import matplotlib.pyplot as plt\n",
    "import random\n",
    "from sklearn.manifold import TSNE\n",
    "from sklearn.decomposition import PCA\n",
    "import tensorflow as tf\n",
    "from word2vec import Word2Vec"
   ]
  },
  {
   "cell_type": "code",
   "execution_count": 2,
   "metadata": {
    "collapsed": true
   },
   "outputs": [],
   "source": [
    "sess = tf.InteractiveSession()"
   ]
  },
  {
   "cell_type": "code",
   "execution_count": 3,
   "metadata": {
    "collapsed": false
   },
   "outputs": [],
   "source": [
    "# Load training results.\n",
    "training_results_path = \"training-results\"\n",
    "model = Word2Vec(sess,\n",
    "                 for_training = False,\n",
    "                 training_results_path = training_results_path)"
   ]
  },
  {
   "cell_type": "code",
   "execution_count": 4,
   "metadata": {
    "collapsed": false
   },
   "outputs": [],
   "source": [
    "embeddings = model.tf_embeddings.eval()"
   ]
  },
  {
   "cell_type": "code",
   "execution_count": 5,
   "metadata": {
    "collapsed": false
   },
   "outputs": [],
   "source": [
    "# Visualize embeddings.\n",
    "def plot_with_labels(low_dim_embeds, labels):\n",
    "    plt.figure(figsize = (20, 20))\n",
    "    for i, label in enumerate(labels):\n",
    "        x, y = low_dim_embeds[i, :]\n",
    "        plt.scatter(x, y)\n",
    "        plt.annotate(label,\n",
    "                    xy = (x, y),\n",
    "                    xytext = (5, 2),\n",
    "                    textcoords = \"offset points\",\n",
    "                    ha = \"right\",\n",
    "                    va = \"bottom\")\n",
    "\n",
    "tsne = TSNE(perplexity = 30, n_components = 2, init = \"pca\", n_iter = 5000)\n",
    "plot_only = 500\n",
    "low_dim_embeds = tsne.fit_transform(embeddings[:plot_only, :])\n",
    "labels = [model.words[i] for i in xrange(plot_only)]\n",
    "plot_with_labels(low_dim_embeds, labels)"
   ]
  },
  {
   "cell_type": "code",
   "execution_count": 6,
   "metadata": {
    "collapsed": false
   },
   "outputs": [
    {
     "name": "stdout",
     "output_type": "stream",
     "text": [
      "['gram3-comparative', 'gram8-plural', 'capital-common-countries', 'city-in-state', 'family', 'gram9-plural-verbs', 'gram2-opposite', 'currency', 'gram4-superlative', 'gram6-nationality-adjective', 'gram7-past-tense', 'gram5-present-participle', 'capital-world', 'gram1-adjective-to-adverb']\n"
     ]
    }
   ],
   "source": [
    "def read_analogy_questions(filename):\n",
    "    questions_by_section = {}\n",
    "    with open(filename, \"rb\") as fp:\n",
    "        for line in fp:\n",
    "            line = line.strip()\n",
    "            if line.startswith(\":\"):\n",
    "                section_name = line[2:]\n",
    "                questions_by_section[section_name] = []\n",
    "                questions = questions_by_section[section_name]\n",
    "            else:\n",
    "                q = line.split()\n",
    "                if (q[0].lower() not in model.word2id or\n",
    "                    q[1].lower() not in model.word2id or\n",
    "                    q[2].lower() not in model.word2id or\n",
    "                    q[3].lower() not in model.word2id):\n",
    "                    continue\n",
    "                questions.append(q)\n",
    "    return questions_by_section\n",
    "            \n",
    "            \n",
    "questions_by_section = read_analogy_questions(\"questions-words.txt\")\n",
    "print questions_by_section.keys()"
   ]
  },
  {
   "cell_type": "code",
   "execution_count": 7,
   "metadata": {
    "collapsed": false
   },
   "outputs": [],
   "source": [
    "def plot_connections(low_dim_beds, labels):\n",
    "    plt.figure(figsize = (20, 20))\n",
    "    for i, label in enumerate(labels):\n",
    "        x, y = low_dim_embeds[i, :]\n",
    "        plt.scatter(x, y)\n",
    "        plt.text(x, y, label, fontsize=16)\n",
    "    for i in xrange(len(labels) / 2):\n",
    "        x1, y1 = low_dim_embeds[i*2, :]\n",
    "        x2, y2 = low_dim_embeds[i*2+1, :]\n",
    "        plt.plot([x1, x2], [y1, y2], 'b--')    "
   ]
  },
  {
   "cell_type": "code",
   "execution_count": 8,
   "metadata": {
    "collapsed": false
   },
   "outputs": [],
   "source": [
    "def plot_connections(low_dim_beds, labels):\n",
    "    plt.figure(figsize = (20, 20))\n",
    "    for i, label in enumerate(labels):\n",
    "        x, y = low_dim_embeds[i, :]\n",
    "        plt.scatter(x, y)\n",
    "        plt.text(x, y, label, fontsize=16)\n",
    "    for i in xrange(len(labels) / 2):\n",
    "        x1, y1 = low_dim_embeds[i*2, :]\n",
    "        x2, y2 = low_dim_embeds[i*2+1, :]\n",
    "        plt.plot([x1, x2], [y1, y2], 'b--')\n",
    "\n",
    "\n",
    "questions = questions_by_section[\"gram3-comparative\"]\n",
    "question_pairs = set()\n",
    "for q in questions:\n",
    "    if (q[0].lower() not in model.word2id or\n",
    "        q[1].lower() not in model.word2id or \n",
    "        q[2].lower() not in model.word2id or \n",
    "        q[3].lower() not in model.word2id):\n",
    "        continue\n",
    "    question_pairs.add(tuple(q[0:2]))\n",
    "    question_pairs.add(tuple(q[2:4]))\n",
    "question_pairs = list(question_pairs)\n",
    "question_words = [w for p in question_pairs for w in p]\n",
    "question_words_indices = [model.word2id[w.lower()] for w in question_words]\n",
    "\n",
    "pca = PCA(2)\n",
    "high_dim_embeds = embeddings[question_words_indices, :]\n",
    "low_dim_embeds = pca.fit(high_dim_embeds).transform(high_dim_embeds)\n",
    "plot_connections(low_dim_embeds, question_words)"
   ]
  },
  {
   "cell_type": "code",
   "execution_count": 9,
   "metadata": {
    "collapsed": false
   },
   "outputs": [
    {
     "name": "stdout",
     "output_type": "stream",
     "text": [
      "man : woman --- groom :( bride v.s. marriage )\n",
      "son : daughter --- stepfather :( stepmother v.s. vipsania )\n",
      "grandson : granddaughter --- grandfather :( grandmother v.s. paternal )\n",
      "stepfather : stepmother --- grandpa :( grandma v.s. captioned )\n",
      "uncle : aunt --- brothers :( sisters v.s. gummo )\n",
      "stepfather : stepmother --- grandson :( granddaughter v.s. infanta )\n",
      "groom : bride --- dad :( mom v.s. mother )\n",
      "prince : princess --- dad :( mom v.s. gnasher )\n",
      "grandpa : grandma --- brothers :( sisters v.s. brother )\n",
      "brother : sister --- groom :( bride v.s. longwood )\n",
      "brother : sister --- grandfather :( grandmother v.s. paternal )\n",
      "husband : wife --- grandpa :( grandma v.s. tapp )\n",
      "he : she --- brothers :( sisters v.s. brother )\n",
      "husband : wife --- grandfather :( grandmother v.s. father )\n",
      "uncle : aunt --- groom :( bride v.s. nellis )\n",
      "husband : wife --- brother :( sister v.s. son )\n",
      "prince : princess --- nephew :( niece v.s. wife )\n",
      "grandpa : grandma --- husband :( wife v.s. daughter )\n",
      "man : woman --- grandfather :( grandmother v.s. mother )\n",
      "prince : princess --- grandpa :( grandma v.s. tapp )\n",
      "boy : girl --- his :( her v.s. s )\n"
     ]
    }
   ],
   "source": [
    "def compute_analogy(a, b, c):\n",
    "    q = np.asarray([[model.word2id[a.lower()], model.word2id[b.lower()], model.word2id[c.lower()]]], np.int32)\n",
    "    results = model.predict_analogy(q)\n",
    "    for r in results[0]:\n",
    "        if r not in q:\n",
    "            return model.words[r]\n",
    "\n",
    "\n",
    "questions = questions_by_section[\"family\"]\n",
    "random.shuffle(questions)\n",
    "for q in questions[:30]:\n",
    "    r = compute_analogy(q[0], q[1], q[2])\n",
    "    if r != q[3].lower():\n",
    "        print q[0], ':', q[1], '---', q[2], ':(', q[3], 'v.s.',  r, ')'"
   ]
  }
 ],
 "metadata": {
  "kernelspec": {
   "display_name": "Python 2",
   "language": "python",
   "name": "python2"
  },
  "language_info": {
   "codemirror_mode": {
    "name": "ipython",
    "version": 2
   },
   "file_extension": ".py",
   "mimetype": "text/x-python",
   "name": "python",
   "nbconvert_exporter": "python",
   "pygments_lexer": "ipython2",
   "version": "2.7.11"
  }
 },
 "nbformat": 4,
 "nbformat_minor": 1
}
