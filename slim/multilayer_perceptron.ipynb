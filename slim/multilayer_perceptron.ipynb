{
 "cells": [
  {
   "cell_type": "code",
   "execution_count": 1,
   "metadata": {
    "collapsed": true
   },
   "outputs": [],
   "source": [
    "import matplotlib.pyplot as plt\n",
    "import numpy as np\n",
    "import tensorflow as tf\n",
    "slim = tf.contrib.slim\n",
    "\n",
    "%matplotlib inline"
   ]
  },
  {
   "cell_type": "code",
   "execution_count": 2,
   "metadata": {
    "collapsed": true
   },
   "outputs": [],
   "source": [
    "# Create a multilayer perceptron regression model.\n",
    "def regression_model(inputs, is_training = True, scope = \"deep_regression\"):\n",
    "    with tf.variable_scope(scope, values = [inputs]):\n",
    "        end_points = {}\n",
    "        with slim.arg_scope([slim.fully_connected], \n",
    "                            activation_fn = tf.nn.relu,\n",
    "                            weights_regularizer = slim.l2_regularizer(0.01)):\n",
    "            # First fully connected layer.\n",
    "            net = slim.fully_connected(inputs, 32, scope = \"fc1\")\n",
    "            end_points[\"fc1\"] = net\n",
    "            # Dropout to prevent over-fitting.\n",
    "            net = slim.dropout(net, 0.8, is_training = is_training)\n",
    "            # Second fully connected layer.\n",
    "            net = slim.fully_connected(net, 16, scope=\"fc2\")\n",
    "            end_points[\"fc2\"] = net\n",
    "            # Final fully connected layer without nonlinearity.\n",
    "            predictions = slim.fully_connected(net, 1, activation_fn = None, scope = \"prediction\")\n",
    "            end_points[\"out\"] = predictions\n",
    "            # Return all nodes.\n",
    "            return predictions, end_points"
   ]
  },
  {
   "cell_type": "code",
   "execution_count": 3,
   "metadata": {
    "collapsed": false
   },
   "outputs": [
    {
     "name": "stdout",
     "output_type": "stream",
     "text": [
      "Layers\n",
      "name = deep_regression/fc1/Relu:0, shape = (?, 32)\n",
      "name = deep_regression/fc2/Relu:0, shape = (?, 16)\n",
      "name = deep_regression/prediction/BiasAdd:0, shape = (?, 1)\n",
      "\n",
      "\n",
      "Parameters\n",
      "name = deep_regression/fc1/weights:0, shape = (1, 32)\n",
      "name = deep_regression/fc1/biases:0, shape = (32,)\n",
      "name = deep_regression/fc2/weights:0, shape = (32, 16)\n",
      "name = deep_regression/fc2/biases:0, shape = (16,)\n",
      "name = deep_regression/prediction/weights:0, shape = (16, 1)\n",
      "name = deep_regression/prediction/biases:0, shape = (1,)\n"
     ]
    }
   ],
   "source": [
    "# Print the name and shape of the model.\n",
    "with tf.Graph().as_default():\n",
    "    # Dummy placeholders for inputs and outputs.\n",
    "    inputs = tf.placeholder(tf.float32, shape=(None, 1))\n",
    "    outputs = tf.placeholder(tf.float32, shape=(None, 1))\n",
    "    # Build model.\n",
    "    predictions, end_points = regression_model(inputs)\n",
    "    # Print name and shape for each tensor.\n",
    "    print \"Layers\"\n",
    "    for k,v in end_points.iteritems():\n",
    "        print \"name = {}, shape = {}\".format(v.name, v.get_shape())\n",
    "    # Print name and shape for parameter nodes.\n",
    "    print \"\\n\"\n",
    "    print \"Parameters\"\n",
    "    for v in slim.get_model_variables():\n",
    "        print \"name = {}, shape = {}\".format(v.name, v.get_shape())"
   ]
  },
  {
   "cell_type": "code",
   "execution_count": 4,
   "metadata": {
    "collapsed": false
   },
   "outputs": [
    {
     "data": {
      "text/plain": [
       "<matplotlib.collections.PathCollection at 0x121ac93d0>"
      ]
     },
     "execution_count": 4,
     "metadata": {},
     "output_type": "execute_result"
    },
    {
     "data": {
      "image/png": "[encoded data removed]",
      "text/plain": [
       "<matplotlib.figure.Figure at 0x12182a210>"
      ]
     },
     "metadata": {},
     "output_type": "display_data"
    }
   ],
   "source": [
    "# Generate 1d regression data: y = sin(x) + 5 + noise.\n",
    "def produce_batch(batch_size, noise = 0.3):\n",
    "    xs = np.random.random(size = [batch_size, 1]) * 10\n",
    "    ys = np.sin(xs) + 5 + np.random.normal(size = [batch_size, 1], scale=noise)\n",
    "    return [xs.astype(np.float32), ys.astype(np.float32)]\n",
    "\n",
    "x_train, y_train = produce_batch(200)\n",
    "x_test, y_test = produce_batch(200)\n",
    "plt.scatter(x_train, y_train)"
   ]
  },
  {
   "cell_type": "code",
   "execution_count": 5,
   "metadata": {
    "collapsed": false
   },
   "outputs": [
    {
     "name": "stderr",
     "output_type": "stream",
     "text": [
      "INFO:tensorflow:Starting Session.\n",
      "WARNING:tensorflow:*******************************************************\n",
      "INFO:tensorflow:Starting Queues.\n",
      "INFO:tensorflow:global_step/sec: 0\n",
      "WARNING:tensorflow:TensorFlow's V1 checkpoint format is deprecated; V2 will become the default shortly after 10/31/2016.\n",
      "WARNING:tensorflow:Consider switching to the more efficient V2 format now:\n",
      "WARNING:tensorflow:   `tf.train.Saver(write_version=tf.train.SaverDef.V2)`\n",
      "WARNING:tensorflow:to prevent breakage.\n",
      "WARNING:tensorflow:*******************************************************\n",
      "INFO:tensorflow:global step 500: loss = 0.3018 (0.00 sec/step)\n",
      "INFO:tensorflow:global step 1000: loss = 0.2980 (0.00 sec/step)\n",
      "INFO:tensorflow:global step 1500: loss = 0.2738 (0.00 sec/step)\n",
      "INFO:tensorflow:global step 2000: loss = 0.2552 (0.00 sec/step)\n",
      "INFO:tensorflow:global step 2500: loss = 0.2553 (0.00 sec/step)\n",
      "INFO:tensorflow:global step 3000: loss = 0.2470 (0.00 sec/step)\n",
      "INFO:tensorflow:global step 3500: loss = 0.2509 (0.00 sec/step)\n",
      "INFO:tensorflow:global step 4000: loss = 0.2315 (0.00 sec/step)\n",
      "INFO:tensorflow:global step 4500: loss = 0.2268 (0.00 sec/step)\n",
      "INFO:tensorflow:global step 5000: loss = 0.1386 (0.00 sec/step)\n",
      "INFO:tensorflow:Stopping Training.\n",
      "INFO:tensorflow:Finished training! Saving model to disk.\n",
      "WARNING:tensorflow:*******************************************************\n",
      "WARNING:tensorflow:TensorFlow's V1 checkpoint format is deprecated; V2 will become the default shortly after 10/31/2016.\n",
      "WARNING:tensorflow:Consider switching to the more efficient V2 format now:\n",
      "WARNING:tensorflow:   `tf.train.Saver(write_version=tf.train.SaverDef.V2)`\n",
      "WARNING:tensorflow:to prevent breakage.\n",
      "WARNING:tensorflow:*******************************************************\n"
     ]
    }
   ],
   "source": [
    "# Train model with l2 loss.\n",
    "def convert_data_to_tensors(x, y):\n",
    "    inputs = tf.constant(x)\n",
    "    inputs.set_shape([None, 1])\n",
    "    outputs = tf.constant(y)\n",
    "    outputs.set_shape([None, 1])\n",
    "    return inputs, outputs\n",
    "\n",
    "ckpt_dir = \"regression_model/\"\n",
    "with tf.Graph().as_default():\n",
    "    tf.logging.set_verbosity(tf.logging.INFO)\n",
    "    inputs, targets = convert_data_to_tensors(x_train, y_train)\n",
    "    predictions, nodes = regression_model(inputs, is_training=True)\n",
    "    l2_loss = slim.losses.mean_squared_error(predictions, targets)\n",
    "    optimizer = tf.train.AdamOptimizer(learning_rate = 0.005)\n",
    "    train_op = slim.learning.create_train_op(l2_loss, optimizer)\n",
    "    final_loss = slim.learning.train(train_op,\n",
    "                                     logdir = ckpt_dir,\n",
    "                                     number_of_steps = 5000,\n",
    "                                     save_summaries_secs = 5,\n",
    "                                     log_every_n_steps = 500)"
   ]
  },
  {
   "cell_type": "code",
   "execution_count": 6,
   "metadata": {
    "collapsed": false
   },
   "outputs": [
    {
     "name": "stderr",
     "output_type": "stream",
     "text": [
      "WARNING:tensorflow:*******************************************************\n",
      "WARNING:tensorflow:TensorFlow's V1 checkpoint format is deprecated; V2 will become the default shortly after 10/31/2016.\n",
      "WARNING:tensorflow:Consider switching to the more efficient V2 format now:\n",
      "WARNING:tensorflow:   `tf.train.Saver(write_version=tf.train.SaverDef.V2)`\n",
      "WARNING:tensorflow:to prevent breakage.\n",
      "WARNING:tensorflow:*******************************************************\n"
     ]
    },
    {
     "data": {
      "text/plain": [
       "<matplotlib.text.Text at 0x122236d90>"
      ]
     },
     "execution_count": 6,
     "metadata": {},
     "output_type": "execute_result"
    },
    {
     "data": {
      "image/png": "[encoded data removed]",
      "text/plain": [
       "<matplotlib.figure.Figure at 0x122497510>"
      ]
     },
     "metadata": {},
     "output_type": "display_data"
    }
   ],
   "source": [
    "# Load saved model and use for prediction.\n",
    "with tf.Graph().as_default():\n",
    "    inputs, targets = convert_data_to_tensors(x_test, y_test)\n",
    "    predictions, end_points = regression_model(inputs, is_training=False)\n",
    "    sv = tf.train.Supervisor(logdir = ckpt_dir)\n",
    "    with sv.managed_session() as sess:\n",
    "        inputs, predictions, targets = sess.run([inputs, predictions, targets])\n",
    "        \n",
    "        \n",
    "plt.scatter(inputs, targets, c = 'r')\n",
    "plt.scatter(inputs, predictions, c = 'b')\n",
    "plt.title(\"red = true, blue = predicted\")"
   ]
  }
 ],
 "metadata": {
  "kernelspec": {
   "display_name": "Python 2",
   "language": "python",
   "name": "python2"
  },
  "language_info": {
   "codemirror_mode": {
    "name": "ipython",
    "version": 2
   },
   "file_extension": ".py",
   "mimetype": "text/x-python",
   "name": "python",
   "nbconvert_exporter": "python",
   "pygments_lexer": "ipython2",
   "version": "2.7.11"
  }
 },
 "nbformat": 4,
 "nbformat_minor": 1
}
