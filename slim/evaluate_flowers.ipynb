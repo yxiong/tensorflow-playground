{
 "cells": [
  {
   "cell_type": "code",
   "execution_count": null,
   "metadata": {
    "collapsed": false
   },
   "outputs": [],
   "source": [
    "from __future__ import division\n",
    "\n",
    "import math\n",
    "import os\n",
    "import sys\n",
    "import tensorflow as tf\n",
    "import tensorflow.contrib.slim as slim\n",
    "\n",
    "import flowers_dataset\n",
    "import inception_preprocessing\n",
    "import inception_v1"
   ]
  },
  {
   "cell_type": "code",
   "execution_count": null,
   "metadata": {
    "collapsed": true
   },
   "outputs": [],
   "source": [
    "home_dir = os.path.expanduser('~')\n",
    "base_data_dir = os.path.join(home_dir, \"data/flowers\")\n",
    "\n",
    "dataset_dir = os.path.join(base_data_dir, \"tfrecords\")\n",
    "dataset_split_name = \"validation\"\n",
    "\n",
    "checkpoint_dir = os.path.join(base_data_dir, \"train_logs/v006\")\n",
    "\n",
    "eval_loop = True\n",
    "eval_dir = os.path.join(base_data_dir, \"eval_logs/v006\")\n",
    "\n",
    "batch_size = 100\n",
    "num_preprocessing_threads = 4"
   ]
  },
  {
   "cell_type": "code",
   "execution_count": null,
   "metadata": {
    "collapsed": false
   },
   "outputs": [],
   "source": [
    "tf.logging.set_verbosity(tf.logging.INFO)\n",
    "with tf.Graph().as_default():\n",
    "    with tf.device('/cpu:0'):\n",
    "        slim.create_global_step()\n",
    "\n",
    "        # Create a dataset provider that loads data from the dataset\n",
    "        dataset = flowers_dataset.get_dataset(dataset_split_name, dataset_dir)\n",
    "        provider = slim.dataset_data_provider.DatasetDataProvider(dataset, num_epochs=1)\n",
    "        [image, label] = provider.get(['image', 'label'])\n",
    "        \n",
    "        # Preprocess images.\n",
    "        eval_image_size = inception_v1.inception_v1.default_image_size\n",
    "        image = inception_preprocessing.preprocess_image(image, eval_image_size, eval_image_size, is_training=False)\n",
    "        images, labels = tf.train.batch(\n",
    "            [image, label],\n",
    "            batch_size=batch_size,\n",
    "            allow_smaller_final_batch=True,\n",
    "            num_threads=num_preprocessing_threads)\n",
    "        labels = tf.squeeze(labels)\n",
    "\n",
    "        # Define the model.\n",
    "        with slim.arg_scope(inception_v1.inception_v1_arg_scope(weight_decay=0.0)):\n",
    "            logits, _ = inception_v1.inception_v1(images, num_classes=dataset.num_classes, is_training=False)\n",
    "        predictions = tf.argmax(logits, 1)\n",
    "        # Define the metrics.\n",
    "        accuracy, update_op = slim.metrics.streaming_accuracy(predictions, labels)\n",
    "        # Summary.\n",
    "        summary_op = tf.scalar_summary(\"Accuracy\", accuracy)\n",
    "\n",
    "        if eval_loop:\n",
    "            # Run evaluation loop.\n",
    "            slim.evaluation.evaluation_loop(\n",
    "                master=\"\",\n",
    "                checkpoint_dir=checkpoint_dir,\n",
    "                logdir=eval_dir,\n",
    "                num_evals=math.ceil(dataset.num_samples / float(batch_size)),\n",
    "                eval_op=update_op,\n",
    "                summary_op=summary_op,\n",
    "                variables_to_restore=slim.get_variables_to_restore())\n",
    "        else:\n",
    "            checkpoint_path = tf.train.latest_checkpoint(checkpoint_dir)\n",
    "            metric_values = slim.evaluation.evaluate_once(\n",
    "                master=\"\",\n",
    "                checkpoint_path=checkpoint_path,\n",
    "                logdir=eval_dir,\n",
    "                num_evals=math.ceil(dataset.num_samples / float(batch_size)),\n",
    "                eval_op=update_op,\n",
    "                final_op=accuracy,\n",
    "                variables_to_restore=slim.get_variables_to_restore())\n",
    "            print \"Final accuracy: %f\" % metric_values"
   ]
  }
 ],
 "metadata": {
  "kernelspec": {
   "display_name": "Python 2",
   "language": "python",
   "name": "python2"
  },
  "language_info": {
   "codemirror_mode": {
    "name": "ipython",
    "version": 2
   },
   "file_extension": ".py",
   "mimetype": "text/x-python",
   "name": "python",
   "nbconvert_exporter": "python",
   "pygments_lexer": "ipython2",
   "version": "2.7.12"
  }
 },
 "nbformat": 4,
 "nbformat_minor": 1
}
