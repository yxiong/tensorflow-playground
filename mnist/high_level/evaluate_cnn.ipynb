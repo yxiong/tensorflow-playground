{
 "cells": [
  {
   "cell_type": "markdown",
   "metadata": {},
   "source": [
    "NOTES:\n",
    "\n",
    "- To be run together with train_cnn.ipynb (see that file for more details).\n",
    "- To avoid OOM on GPU resources, we put everything on CPU for evaluation.\n",
    "- We currently use a for loop with sleep to periodically run evluation, but better approach exists such as `slim.evaluation.evaluation_loop`."
   ]
  },
  {
   "cell_type": "code",
   "execution_count": null,
   "metadata": {
    "collapsed": true
   },
   "outputs": [],
   "source": [
    "import numpy as np\n",
    "import tensorflow as tf\n",
    "from tensorflow.examples.tutorials.mnist import input_data as mnist_input_data\n",
    "import time\n",
    "\n",
    "import cnn_utils"
   ]
  },
  {
   "cell_type": "code",
   "execution_count": null,
   "metadata": {
    "collapsed": false
   },
   "outputs": [],
   "source": [
    "# Load the dataset.\n",
    "dataset = mnist_input_data.read_data_sets(\"../MNIST_data\", one_hot=True)\n",
    "\n",
    "def input_fn_validation():\n",
    "    with tf.device(\"/cpu:0\"):\n",
    "        features = tf.constant(dataset.validation.images)\n",
    "        labels = tf.constant(np.asarray(dataset.validation.labels, np.float32))\n",
    "    return features, labels\n",
    "\n",
    "\n",
    "def cpu_model_fn(features, labels, mode, *args, **kw):\n",
    "    with tf.device(\"/cpu:0\"):\n",
    "        return cnn_utils.model_fn(features, labels, mode, *args, **kw)    "
   ]
  },
  {
   "cell_type": "code",
   "execution_count": null,
   "metadata": {
    "collapsed": false
   },
   "outputs": [],
   "source": [
    "estimator = tf.contrib.learn.Estimator(cpu_model_fn, \"trained-model\")\n",
    "while True:\n",
    "    estimator.evaluate(input_fn = input_fn_validation, steps = 1)\n",
    "    time.sleep(30)"
   ]
  }
 ],
 "metadata": {
  "kernelspec": {
   "display_name": "Python 2",
   "language": "python",
   "name": "python2"
  },
  "language_info": {
   "codemirror_mode": {
    "name": "ipython",
    "version": 2
   },
   "file_extension": ".py",
   "mimetype": "text/x-python",
   "name": "python",
   "nbconvert_exporter": "python",
   "pygments_lexer": "ipython2",
   "version": "2.7.12"
  }
 },
 "nbformat": 4,
 "nbformat_minor": 1
}
