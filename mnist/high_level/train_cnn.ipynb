{
 "cells": [
  {
   "cell_type": "code",
   "execution_count": null,
   "metadata": {
    "collapsed": false
   },
   "outputs": [],
   "source": [
    "import logging\n",
    "import numpy as np\n",
    "import tensorflow as tf\n",
    "from tensorflow.examples.tutorials.mnist import input_data as mnist_input_data\n",
    "\n",
    "from xy_python_utils.os_utils import rm_rf\n",
    "\n",
    "import cnn_utils"
   ]
  },
  {
   "cell_type": "code",
   "execution_count": null,
   "metadata": {
    "collapsed": false
   },
   "outputs": [],
   "source": [
    "# Load the dataset.\n",
    "dataset = mnist_input_data.read_data_sets(\"../MNIST_data\", one_hot=True)\n",
    "\n",
    "def input_fn_train():\n",
    "    features = tf.constant(dataset.train.images)\n",
    "    labels = np.asarray(dataset.train.labels, np.float32)\n",
    "    slices = tf.train.slice_input_producer([features, labels])\n",
    "    return tf.train.batch(slices, batch_size=50)"
   ]
  },
  {
   "cell_type": "markdown",
   "metadata": {},
   "source": [
    "Delete `trained-model` folder if you want to start fresh."
   ]
  },
  {
   "cell_type": "code",
   "execution_count": null,
   "metadata": {
    "collapsed": false
   },
   "outputs": [],
   "source": [
    "config = tf.contrib.learn.RunConfig(\n",
    "    save_checkpoints_secs = 30)\n",
    "\n",
    "estimator = tf.contrib.learn.Estimator(\n",
    "    model_fn = cnn_utils.model_fn,\n",
    "    model_dir = \"trained-model\",\n",
    "    config = config)\n",
    "\n",
    "estimator.fit(\n",
    "    input_fn = input_fn_train,\n",
    "    steps = 20000)"
   ]
  },
  {
   "cell_type": "markdown",
   "metadata": {
    "collapsed": false
   },
   "source": [
    "Run `evaluate_cnn.ipynb` after the first checkpoint is created.\n",
    "\n",
    "Run `tensorboard --logdir trained-model` to visualize training progress.\n",
    "\n",
    "NOTE: the high-level estimator runs about twice as slow as the low-level for loop, which needs further investigation."
   ]
  }
 ],
 "metadata": {
  "kernelspec": {
   "display_name": "Python 2",
   "language": "python",
   "name": "python2"
  },
  "language_info": {
   "codemirror_mode": {
    "name": "ipython",
    "version": 2
   },
   "file_extension": ".py",
   "mimetype": "text/x-python",
   "name": "python",
   "nbconvert_exporter": "python",
   "pygments_lexer": "ipython2",
   "version": "2.7.12"
  }
 },
 "nbformat": 4,
 "nbformat_minor": 1
}
