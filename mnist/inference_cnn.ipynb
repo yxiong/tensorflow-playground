{
 "cells": [
  {
   "cell_type": "code",
   "execution_count": 1,
   "metadata": {
    "collapsed": true
   },
   "outputs": [],
   "source": [
    "import matplotlib.pyplot as plt\n",
    "import tensorflow as tf\n",
    "from tensorflow.examples.tutorials.mnist import input_data as mnist_input_data\n",
    "\n",
    "import cnn_utils\n",
    "\n",
    "%matplotlib inline"
   ]
  },
  {
   "cell_type": "code",
   "execution_count": 2,
   "metadata": {
    "collapsed": true
   },
   "outputs": [],
   "source": [
    "sess = tf.InteractiveSession()"
   ]
  },
  {
   "cell_type": "code",
   "execution_count": 3,
   "metadata": {
    "collapsed": false
   },
   "outputs": [],
   "source": [
    "# Build the graph.\n",
    "x = tf.placeholder(tf.float32, shape=[None, 784])\n",
    "keep_prob = tf.placeholder(tf.float32)\n",
    "y = cnn_utils.inference(x, keep_prob)\n",
    "\n",
    "# Restore the endpoint data\n",
    "saver = tf.train.Saver()\n",
    "saver.restore(sess, \"trained-models/cnn/cnn-20000\")"
   ]
  },
  {
   "cell_type": "code",
   "execution_count": 4,
   "metadata": {
    "collapsed": false
   },
   "outputs": [
    {
     "name": "stdout",
     "output_type": "stream",
     "text": [
      "Extracting MNIST_data/train-images-idx3-ubyte.gz\n",
      "Extracting MNIST_data/train-labels-idx1-ubyte.gz\n",
      "Extracting MNIST_data/t10k-images-idx3-ubyte.gz\n",
      "Extracting MNIST_data/t10k-labels-idx1-ubyte.gz\n"
     ]
    }
   ],
   "source": [
    "# Load test dataset.\n",
    "test_dataset = mnist_input_data.read_data_sets(\"MNIST_data\", one_hot=True).test"
   ]
  },
  {
   "cell_type": "code",
   "execution_count": 5,
   "metadata": {
    "collapsed": false
   },
   "outputs": [
    {
     "name": "stdout",
     "output_type": "stream",
     "text": [
      "predictions: [7 2 1 0 4 1 4 9 5 9]\n"
     ]
    },
    {
     "data": {
      "image/png": "[encoded data removed]",
      "text/plain": [
       "<matplotlib.figure.Figure at 0x1152085d0>"
      ]
     },
     "metadata": {},
     "output_type": "display_data"
    }
   ],
   "source": [
    "# Run inference.\n",
    "images = np.zeros((28, 280), np.float)\n",
    "for i in xrange(10):\n",
    "    images[:, i*28:(i+1)*28] = np.reshape(test_dataset.images[i], (28, 28))\n",
    "plt.imshow(images, cmap=plt.get_cmap(\"gray\"))\n",
    "prob = sess.run(y, feed_dict = {x: test_dataset.images[:10], keep_prob: 1.0})\n",
    "pred = np.argmax(prob, axis=1)\n",
    "print \"predictions:\", pred"
   ]
  }
 ],
 "metadata": {
  "kernelspec": {
   "display_name": "Python 2",
   "language": "python",
   "name": "python2"
  },
  "language_info": {
   "codemirror_mode": {
    "name": "ipython",
    "version": 2
   },
   "file_extension": ".py",
   "mimetype": "text/x-python",
   "name": "python",
   "nbconvert_exporter": "python",
   "pygments_lexer": "ipython2",
   "version": "2.7.11"
  }
 },
 "nbformat": 4,
 "nbformat_minor": 1
}
