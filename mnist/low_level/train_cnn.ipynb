{
 "cells": [
  {
   "cell_type": "code",
   "execution_count": 1,
   "metadata": {
    "collapsed": false
   },
   "outputs": [],
   "source": [
    "import logging\n",
    "import tensorflow as tf\n",
    "from tensorflow.examples.tutorials.mnist import input_data as mnist_input_data\n",
    "\n",
    "import cnn_utils"
   ]
  },
  {
   "cell_type": "code",
   "execution_count": 2,
   "metadata": {
    "collapsed": false
   },
   "outputs": [],
   "source": [
    "# Setup logging.\n",
    "reload(logging)\n",
    "logging.basicConfig(format = \"[%(asctime)s] %(message)s\",\n",
    "                    datefmt = \"%Y-%m-%d %H:%M:%S\",\n",
    "                    level = logging.INFO)\n",
    "\n",
    "# Create an interactive session.\n",
    "sess = tf.InteractiveSession()"
   ]
  },
  {
   "cell_type": "code",
   "execution_count": 3,
   "metadata": {
    "collapsed": false
   },
   "outputs": [
    {
     "name": "stdout",
     "output_type": "stream",
     "text": [
      "Extracting ../MNIST_data/train-images-idx3-ubyte.gz\n",
      "Extracting ../MNIST_data/train-labels-idx1-ubyte.gz\n",
      "Extracting ../MNIST_data/t10k-images-idx3-ubyte.gz\n",
      "Extracting ../MNIST_data/t10k-labels-idx1-ubyte.gz\n"
     ]
    }
   ],
   "source": [
    "# Load the dataset.\n",
    "dataset = mnist_input_data.read_data_sets(\"../MNIST_data\", one_hot=True)"
   ]
  },
  {
   "cell_type": "code",
   "execution_count": 4,
   "metadata": {
    "collapsed": false
   },
   "outputs": [
    {
     "data": {
      "text/plain": [
       "'checkpoint/graph.pb'"
      ]
     },
     "execution_count": 4,
     "metadata": {},
     "output_type": "execute_result"
    }
   ],
   "source": [
    "\"\"\"Define the network.\"\"\"\n",
    "\n",
    "# Input and output placeholders.\n",
    "x = tf.placeholder(tf.float32, shape=[None, 784], name = \"input\")\n",
    "y_ = tf.placeholder(tf.float32, shape=[None, 10])\n",
    "\n",
    "# Build the network.\n",
    "keep_prob = tf.placeholder(tf.float32, name = \"dropout\")\n",
    "y = cnn_utils.inference(x, keep_prob)\n",
    "loss = cnn_utils.loss(y, y_)\n",
    "accuracy = cnn_utils.accuracy(y, y_)\n",
    "\n",
    "# Setup training.\n",
    "optimizer = tf.train.AdamOptimizer(1e-4)\n",
    "train_step = cnn_utils.training(loss, accuracy, optimizer)\n",
    "saver = tf.train.Saver()\n",
    "\n",
    "summary = tf.summary.merge_all()\n",
    "summary_writer = tf.summary.FileWriter(\"checkpoint\", sess.graph)\n",
    "\n",
    "# Save the graph.\n",
    "tf.train.write_graph(sess.graph_def, \"checkpoint\", \"graph.pb\", as_text=True)"
   ]
  },
  {
   "cell_type": "code",
   "execution_count": 5,
   "metadata": {
    "collapsed": false
   },
   "outputs": [
    {
     "name": "stderr",
     "output_type": "stream",
     "text": [
      "[2017-02-15 23:15:27] step 100, validation accuracy 84.46%\n",
      "[2017-02-15 23:15:29] step 200, validation accuracy 90.84%\n",
      "[2017-02-15 23:15:30] step 300, validation accuracy 92.50%\n",
      "[2017-02-15 23:15:32] step 400, validation accuracy 94.22%\n",
      "[2017-02-15 23:15:34] step 500, validation accuracy 94.64%\n",
      "[2017-02-15 23:15:35] step 600, validation accuracy 95.48%\n",
      "[2017-02-15 23:15:37] step 700, validation accuracy 96.16%\n",
      "[2017-02-15 23:15:38] step 800, validation accuracy 96.14%\n",
      "[2017-02-15 23:15:40] step 900, validation accuracy 96.24%\n",
      "[2017-02-15 23:15:41] step 1000, validation accuracy 96.86%\n",
      "[2017-02-15 23:15:43] step 1100, validation accuracy 96.88%\n",
      "[2017-02-15 23:15:44] step 1200, validation accuracy 97.02%\n",
      "[2017-02-15 23:15:46] step 1300, validation accuracy 97.12%\n",
      "[2017-02-15 23:15:48] step 1400, validation accuracy 97.38%\n",
      "[2017-02-15 23:15:49] step 1500, validation accuracy 97.38%\n",
      "[2017-02-15 23:15:51] step 1600, validation accuracy 97.40%\n",
      "[2017-02-15 23:15:52] step 1700, validation accuracy 97.56%\n",
      "[2017-02-15 23:15:54] step 1800, validation accuracy 97.82%\n",
      "[2017-02-15 23:15:55] step 1900, validation accuracy 97.66%\n",
      "[2017-02-15 23:15:57] step 2000, validation accuracy 97.90%\n",
      "[2017-02-15 23:16:13] step 3000, validation accuracy 98.36%\n",
      "[2017-02-15 23:16:28] step 4000, validation accuracy 98.64%\n",
      "[2017-02-15 23:16:44] step 5000, validation accuracy 98.58%\n",
      "[2017-02-15 23:16:59] step 6000, validation accuracy 98.88%\n",
      "[2017-02-15 23:17:15] step 7000, validation accuracy 98.90%\n",
      "[2017-02-15 23:17:31] step 8000, validation accuracy 98.84%\n",
      "[2017-02-15 23:17:46] step 9000, validation accuracy 99.00%\n",
      "[2017-02-15 23:18:02] step 10000, validation accuracy 99.12%\n",
      "[2017-02-15 23:18:17] step 11000, validation accuracy 99.06%\n",
      "[2017-02-15 23:18:33] step 12000, validation accuracy 99.08%\n",
      "[2017-02-15 23:18:48] step 13000, validation accuracy 99.04%\n",
      "[2017-02-15 23:19:04] step 14000, validation accuracy 99.06%\n",
      "[2017-02-15 23:19:20] step 15000, validation accuracy 99.14%\n",
      "[2017-02-15 23:19:35] step 16000, validation accuracy 99.12%\n",
      "[2017-02-15 23:19:51] step 17000, validation accuracy 99.20%\n",
      "[2017-02-15 23:20:07] step 18000, validation accuracy 99.12%\n",
      "[2017-02-15 23:20:22] step 19000, validation accuracy 99.00%\n",
      "[2017-02-15 23:20:38] step 20000, validation accuracy 99.20%\n"
     ]
    }
   ],
   "source": [
    "# Perform the training.\n",
    "sess.run(tf.global_variables_initializer())\n",
    "validation_feed_dict = {\n",
    "    x:dataset.validation.images,\n",
    "    y_: dataset.validation.labels,\n",
    "    keep_prob: 1.0\n",
    "}\n",
    "for i in range(20000):\n",
    "    batch = dataset.train.next_batch(50)\n",
    "    sess.run(train_step, feed_dict={x: batch[0], y_: batch[1], keep_prob: 0.5})\n",
    "    if (i+1) % 100 == 0:\n",
    "        validation_accuracy = accuracy.eval(feed_dict=validation_feed_dict)\n",
    "        if (i+1) <= 2000 or (i+1) % 1000 == 0:\n",
    "            # Print less frequently when i gets big to avoid verbose printouts.\n",
    "            logging.info(\"step %d, validation accuracy %.2f%%\" %\n",
    "                         (i+1, validation_accuracy * 100))\n",
    "        saver.save(sess, \"checkpoint/cnn\", global_step = i+1)\n",
    "        \n",
    "        summary_str = sess.run(summary, feed_dict=validation_feed_dict)\n",
    "        summary_writer.add_summary(summary_str, i+1)\n",
    "        summary_writer.flush()"
   ]
  },
  {
   "cell_type": "markdown",
   "metadata": {},
   "source": [
    "Run `tensorboard --logdir checkpoint/` to visualize training progress."
   ]
  },
  {
   "cell_type": "code",
   "execution_count": 6,
   "metadata": {
    "collapsed": false
   },
   "outputs": [
    {
     "name": "stdout",
     "output_type": "stream",
     "text": [
      "test accuracy 0.9921\n"
     ]
    }
   ],
   "source": [
    "# Run inference and get accuracy.\n",
    "print(\"test accuracy %g\" % \n",
    "      accuracy.eval(feed_dict={\n",
    "            x: dataset.test.images, \n",
    "            y_: dataset.test.labels, keep_prob: 1.0}))"
   ]
  },
  {
   "cell_type": "markdown",
   "metadata": {},
   "source": [
    "Copy the `checkpoint` folder to `trained-models/cnn`."
   ]
  }
 ],
 "metadata": {
  "kernelspec": {
   "display_name": "Python 2",
   "language": "python",
   "name": "python2"
  },
  "language_info": {
   "codemirror_mode": {
    "name": "ipython",
    "version": 2
   },
   "file_extension": ".py",
   "mimetype": "text/x-python",
   "name": "python",
   "nbconvert_exporter": "python",
   "pygments_lexer": "ipython2",
   "version": "2.7.12"
  }
 },
 "nbformat": 4,
 "nbformat_minor": 1
}
